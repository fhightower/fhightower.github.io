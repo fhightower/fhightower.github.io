{
 "cells": [
  {
   "cell_type": "code",
   "execution_count": null,
   "id": "d8b3f6f1",
   "metadata": {},
   "outputs": [],
   "source": [
    "import math\n",
    "\n",
    "from ipywidgets import interact, interactive, IntSlider, FloatSlider\n",
    "import numpy\n",
    "from matplotlib import pyplot"
   ]
  },
  {
   "cell_type": "code",
   "execution_count": null,
   "id": "5c5d566d",
   "metadata": {},
   "outputs": [],
   "source": [
    "def simple_interest(principal, rate, time):\n",
    "    rate = rate / 100\n",
    "    interest = principal * rate * time\n",
    "    return round(interest, 2)"
   ]
  },
  {
   "cell_type": "code",
   "execution_count": null,
   "id": "ebfc7c1c",
   "metadata": {},
   "outputs": [],
   "source": [
    "def compound_interest(principal, rate, time):\n",
    "    rate = rate / 100\n",
    "    interest = principal * ((1 + rate)**time)\n",
    "    return round(interest, 2)"
   ]
  },
  {
   "cell_type": "code",
   "execution_count": null,
   "id": "9d2e3cb0",
   "metadata": {},
   "outputs": [],
   "source": [
    "def continuously_compounding_interest(principal, rate, time):\n",
    "    rate = rate / 100\n",
    "    interest = principal * (math.e**(rate * time))\n",
    "    return round(interest, 2)"
   ]
  },
  {
   "cell_type": "markdown",
   "id": "8b67a0a8",
   "metadata": {},
   "source": [
    "# Comparing Interest Types\n",
    "\n",
    "We'll start by comparing the three types of interest given the same principal, rate (% return), and time (in years).\n",
    "\n",
    "You can change the rate and time using the sliders below to get an idea of how the interest changes."
   ]
  },
  {
   "cell_type": "code",
   "execution_count": null,
   "id": "9b556b78",
   "metadata": {},
   "outputs": [],
   "source": [
    "PRINCIPAL = 100\n",
    "\n",
    "%matplotlib inline\n",
    "@interact(rate=IntSlider(min=0, max=20, step=1, value=10),\n",
    "          time=IntSlider(min=2, max=40, step=2, value=10))\n",
    "def graph(rate, time):\n",
    "    x = range(0, time)\n",
    "    y = [simple_interest(PRINCIPAL, rate, i) for i in range(0, time)]\n",
    "    pyplot.plot(x, y, marker='o', label='simple')\n",
    "\n",
    "    x = range(0, time)\n",
    "    y = [compound_interest(PRINCIPAL, rate, i) for i in range(0, time)]\n",
    "    pyplot.plot(x, y, marker='o', label='compound')\n",
    "\n",
    "    x = range(0, time)\n",
    "    y = [continuously_compounding_interest(PRINCIPAL, rate, i) for i in range(0, time)]\n",
    "    pyplot.plot(x, y, marker='o', label='continously_compound')\n",
    "\n",
    "    pyplot.legend()"
   ]
  },
  {
   "cell_type": "markdown",
   "id": "2bff43ca",
   "metadata": {},
   "source": [
    "# Compound Interest\n",
    "\n",
    "We'll take a closer look at compound interest as it is most common (it's used to calculate return of stock investments, bank accounts, and more)."
   ]
  },
  {
   "cell_type": "code",
   "execution_count": null,
   "id": "ae16fc2b",
   "metadata": {},
   "outputs": [],
   "source": [
    "%matplotlib inline\n",
    "@interact(principal=IntSlider(min=100, max=10000, step=100, value=100),\n",
    "          rate=IntSlider(min=0, max=20, step=1, value=10),\n",
    "          time=IntSlider(min=2, max=40, step=2, value=10))\n",
    "def graph(principal, rate, time):\n",
    "    x = range(0, time)\n",
    "    y = [compound_interest(principal, rate, i) for i in x]\n",
    "    pyplot.plot(x, y, color='orange', marker='o', label='compound')\n",
    "    for x, y in zip(x, y):\n",
    "        label = y\n",
    "        pyplot.annotate(str(label), (x, y),\n",
    "                     xycoords='data',\n",
    "                     textcoords='offset points',\n",
    "                     xytext=(0, 5), ha='center')\n",
    "    pyplot.legend()"
   ]
  },
  {
   "cell_type": "markdown",
   "id": "691c58ea",
   "metadata": {},
   "source": [
    "And just for fun, here's another way to look at how much an initial investment would be worth:"
   ]
  },
  {
   "cell_type": "code",
   "execution_count": null,
   "id": "2db80b01",
   "metadata": {},
   "outputs": [],
   "source": [
    "%matplotlib inline\n",
    "@interact(principal=IntSlider(min=100, max=10000, step=100, value=100),\n",
    "          rate=IntSlider(min=0, max=20, step=1, value=10),\n",
    "          time=IntSlider(min=2, max=40, step=2, value=10))\n",
    "def calculate(principal, rate, time):\n",
    "    value_with_interest = compound_interest(principal, rate, time)\n",
    "    print(f'Investing ${principal:,} for {time} years at {rate}% interest would return: ${value_with_interest:,}')"
   ]
  },
  {
   "cell_type": "code",
   "execution_count": null,
   "id": "65c19e2b",
   "metadata": {},
   "outputs": [],
   "source": []
  }
 ],
 "metadata": {
  "kernelspec": {
   "display_name": "Python 3 (ipykernel)",
   "language": "python",
   "name": "python3"
  },
  "language_info": {
   "codemirror_mode": {
    "name": "ipython",
    "version": 3
   },
   "file_extension": ".py",
   "mimetype": "text/x-python",
   "name": "python",
   "nbconvert_exporter": "python",
   "pygments_lexer": "ipython3",
   "version": "3.9.0"
  },
  "toc": {
   "base_numbering": 1,
   "nav_menu": {},
   "number_sections": false,
   "sideBar": false,
   "skip_h1_title": false,
   "title_cell": "Table of Contents",
   "title_sidebar": "Contents",
   "toc_cell": false,
   "toc_position": {},
   "toc_section_display": false,
   "toc_window_display": false
  }
 },
 "nbformat": 4,
 "nbformat_minor": 5
}
