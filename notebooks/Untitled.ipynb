{
 "cells": [
  {
   "cell_type": "markdown",
   "id": "0fdfc905-77b4-43d1-91c6-bfb4f986ac70",
   "metadata": {},
   "source": [
    "# Test\n",
    "\n",
    "This is a test...\n",
    "\n",
    "Foo bar.\n",
    "\n",
    "1. !\n",
    "2. @\n",
    "3. #\n",
    "\n",
    "- a\n",
    "- b\n",
    "- c\n"
   ]
  },
  {
   "cell_type": "code",
   "execution_count": null,
   "id": "fa6baebd-eee4-484a-b2da-0d4f438ce7db",
   "metadata": {},
   "outputs": [],
   "source": []
  }
 ],
 "metadata": {
  "kernelspec": {
   "display_name": "Python 3 (ipykernel)",
   "language": "python",
   "name": "python3"
  },
  "language_info": {
   "codemirror_mode": {
    "name": "ipython",
    "version": 3
   },
   "file_extension": ".py",
   "mimetype": "text/x-python",
   "name": "python",
   "nbconvert_exporter": "python",
   "pygments_lexer": "ipython3",
   "version": "3.9.0"
  }
 },
 "nbformat": 4,
 "nbformat_minor": 5
}
