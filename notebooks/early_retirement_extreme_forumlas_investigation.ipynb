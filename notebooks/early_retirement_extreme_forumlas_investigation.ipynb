{
 "cells": [
  {
   "cell_type": "markdown",
   "id": "a575cda6-fb3f-4a92-9dc5-de8444f978fa",
   "metadata": {},
   "source": [
    "The graphs/formulas below are based on the book \"Early Retirement Extreme\". I'll use the term \"Financial Independence\" in place of \"Early Retirement\", but I mean that same thing as the author of that book."
   ]
  },
  {
   "cell_type": "code",
   "execution_count": null,
   "id": "748c3aac-f49a-4cf4-a535-a80b1956943f",
   "metadata": {},
   "outputs": [],
   "source": [
    "import math\n",
    "\n",
    "from ipywidgets import interact, interactive, IntSlider, FloatSlider\n",
    "from matplotlib import pyplot"
   ]
  },
  {
   "cell_type": "markdown",
   "id": "ddfa6ba5-a971-43c4-a076-f4f9fc58ffcc",
   "metadata": {},
   "source": [
    "This formula calculates the length (in years) that a fund w/ starting_fund_years of value will last given an average of interest_rate return. Note that at some point, the fund will last indefinitely (handled in the \"except\" clause below).\n",
    "\n",
    "$\\frac{\\log(\\frac{1}{1 - \\frac{P}{p}*\\frac{i}{1 + i}})}{\\log(1 + i)}$"
   ]
  },
  {
   "cell_type": "code",
   "execution_count": null,
   "id": "aab87ea1-09e2-4a8b-bcd3-5b50c30f589e",
   "metadata": {},
   "outputs": [],
   "source": [
    "def years_fund_will_last(starting_fund_years, interest_rate):\n",
    "    try:\n",
    "        a = starting_fund_years * (interest_rate / (1 + interest_rate))\n",
    "        denom = (1 - a)\n",
    "        first = 1 / denom\n",
    "\n",
    "        second = 1 + interest_rate\n",
    "\n",
    "        return math.log(first) / math.log(second)\n",
    "    except (ValueError, ZeroDivisionError):\n",
    "        return math.inf"
   ]
  },
  {
   "cell_type": "markdown",
   "id": "e95ae213-8184-46f1-8712-4b36bb293e21",
   "metadata": {},
   "source": [
    "# Basic Exploration"
   ]
  },
  {
   "cell_type": "markdown",
   "id": "ae72f8d5-6f77-436e-9cd0-5e00da18c200",
   "metadata": {},
   "source": [
    "So let's get a sense of how this works:"
   ]
  },
  {
   "cell_type": "code",
   "execution_count": null,
   "id": "1085d55a-e50f-40e2-8fb1-2c30079198af",
   "metadata": {},
   "outputs": [],
   "source": [
    "%matplotlib inline\n",
    "@interact(fund_years=IntSlider(min=1, max=30, step=1, value=5),\n",
    "          interest_rate=IntSlider(min=1, max=30, step=1, value=5))\n",
    "def details(fund_years, interest_rate):\n",
    "    years_lasted = round(years_fund_will_last(fund_years, interest_rate / 100), 2)\n",
    "    s = f'At a {interest_rate}% interest rate, a fund designed to last {fund_years} years will actually last {years_lasted} years'\n",
    "    print(s)"
   ]
  },
  {
   "cell_type": "markdown",
   "id": "b19dc801-6b3d-4836-bcdd-e9dbc23ad619",
   "metadata": {},
   "source": [
    "# Self-Sustaining Account"
   ]
  },
  {
   "cell_type": "markdown",
   "id": "e94cf99b-5916-43f6-a414-2632df8d20f7",
   "metadata": {},
   "source": [
    "For the purposes of financial independence, we are interested in finding when an account becomes self-sustaining.\n",
    "\n",
    "So let's approach it this way: Given an interest rate, how long of a fund would one need to have a self-sustaining fund?"
   ]
  },
  {
   "cell_type": "code",
   "execution_count": null,
   "id": "b84211e9-43aa-411d-ae06-c72340808a0b",
   "metadata": {},
   "outputs": [],
   "source": [
    "%matplotlib inline\n",
    "@interact(interest_rate=IntSlider(min=1, max=30, step=1, value=5))\n",
    "def self_sustaining_based_on_interest_rate(interest_rate):\n",
    "    self_sustaining_years = None\n",
    "    for fund_years in range(0, 100):\n",
    "        if years_fund_will_last(fund_years, interest_rate / 100) == math.inf:\n",
    "            self_sustaining_years = fund_years\n",
    "            break\n",
    "\n",
    "    s = f'At a {interest_rate}% interest rate, you will need a fund of {self_sustaining_years} years to be self-sustaining.'\n",
    "    print(s)"
   ]
  },
  {
   "cell_type": "markdown",
   "id": "71c8af48-8edc-40a9-9fee-afca7fcc4206",
   "metadata": {},
   "source": [
    "Now, given a starting fund size, what kind of interest rate is necessary to make it self-sustaining?"
   ]
  },
  {
   "cell_type": "code",
   "execution_count": null,
   "id": "81e574a1-8a08-4985-a082-9b3522903081",
   "metadata": {},
   "outputs": [],
   "source": [
    "%matplotlib inline\n",
    "@interact(fund_years=IntSlider(min=1, max=20, step=1, value=5))\n",
    "def self_sustaining_based_on_fund_size(fund_years):\n",
    "    self_sustaining_interest_rate = None\n",
    "    for interest_rate in range(1, 100):\n",
    "        if years_fund_will_last(fund_years, interest_rate / 100) == math.inf:\n",
    "            self_sustaining_interest_rate = interest_rate\n",
    "            break\n",
    "\n",
    "    s = f'For fund of {fund_years} years to be self-sustaining, you will need an interest rate of {self_sustaining_interest_rate}%.'\n",
    "    print(s)"
   ]
  },
  {
   "cell_type": "markdown",
   "id": "85872d07-4180-4458-9990-1f4a9f2c2f78",
   "metadata": {},
   "source": [
    "# Exploring Interest Rates"
   ]
  },
  {
   "cell_type": "markdown",
   "id": "023790a5-1a96-4180-80fa-f2fba07759b5",
   "metadata": {},
   "source": [
    "Now, let's explore interest rates across funds of different sizes. Note that the graph will stop once the fund becomes self-sustaining."
   ]
  },
  {
   "cell_type": "code",
   "execution_count": null,
   "id": "bd7232c1-7abd-45a0-a7ff-154b031ca12b",
   "metadata": {},
   "outputs": [],
   "source": [
    "%matplotlib inline\n",
    "@interact(interest_rate=IntSlider(min=1, max=20, step=1, value=10))\n",
    "def graph(interest_rate):\n",
    "    x = range(0, 21)\n",
    "    y = [years_fund_will_last(i, (interest_rate / 100)) for i in x]\n",
    "    pyplot.plot(x, y, marker='o', label='years')\n",
    "\n",
    "    for x, y in zip(x, y):\n",
    "        label = round(y, 2)\n",
    "        pyplot.annotate(str(label), (x, y),\n",
    "                        xycoords='data',\n",
    "                        textcoords='offset points',\n",
    "                        xytext=(0, 5), ha='center')\n",
    "\n",
    "    pyplot.xlabel('Starting Fund Size (years)')\n",
    "    pyplot.ylabel('Years')\n",
    "\n",
    "    pyplot.legend()"
   ]
  },
  {
   "cell_type": "markdown",
   "id": "5d035a72-3197-49d6-81e9-58c53aabbf2b",
   "metadata": {},
   "source": [
    "# Exploring Fund Sizes"
   ]
  },
  {
   "cell_type": "markdown",
   "id": "38d8e07b-1b90-45db-b182-bd09f82ab3ad",
   "metadata": {},
   "source": [
    "Now, let's explore fund sizes across different interest rates. Note that the graph will stop once the fund becomes self-sustaining."
   ]
  },
  {
   "cell_type": "code",
   "execution_count": null,
   "id": "1edb4672-7364-4f9d-9cbf-ad904ec6e477",
   "metadata": {},
   "outputs": [],
   "source": [
    "%matplotlib inline\n",
    "@interact(fund_years=IntSlider(min=1, max=20, step=1, value=10))\n",
    "def graph(fund_years):\n",
    "    x = range(0, 21)\n",
    "    y = [years_fund_will_last(fund_years, (i / 100)) for i in x]\n",
    "    pyplot.plot(x, y, marker='o', label='years')\n",
    "\n",
    "    for x, y in zip(x, y):\n",
    "        label = round(y, 2)\n",
    "        pyplot.annotate(str(label), (x, y),\n",
    "                        xycoords='data',\n",
    "                        textcoords='offset points',\n",
    "                        xytext=(0, 5), ha='center')\n",
    "\n",
    "    pyplot.xlabel('Interest Rate (%)')\n",
    "    pyplot.ylabel('Years')\n",
    "\n",
    "    pyplot.legend()"
   ]
  },
  {
   "cell_type": "code",
   "execution_count": null,
   "id": "c64e81f9-e2d7-4c45-89cd-89ac213c7ac7",
   "metadata": {},
   "outputs": [],
   "source": []
  }
 ],
 "metadata": {
  "kernelspec": {
   "display_name": "Python 3 (ipykernel)",
   "language": "python",
   "name": "python3"
  },
  "language_info": {
   "codemirror_mode": {
    "name": "ipython",
    "version": 3
   },
   "file_extension": ".py",
   "mimetype": "text/x-python",
   "name": "python",
   "nbconvert_exporter": "python",
   "pygments_lexer": "ipython3",
   "version": "3.9.0"
  }
 },
 "nbformat": 4,
 "nbformat_minor": 5
}
